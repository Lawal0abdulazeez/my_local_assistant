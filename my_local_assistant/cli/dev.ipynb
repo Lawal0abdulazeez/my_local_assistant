{
 "cells": [
  {
   "cell_type": "code",
   "execution_count": null,
   "id": "61e32bbd",
   "metadata": {},
   "outputs": [],
   "source": [
    "import sys\n",
    "\n",
    "try:\n",
    "    from ..core.llm_handler import LLMHandler\n",
    "    from ..core.vector_store import VectorStoreHandler\n",
    "    from ..core.assistant import RAGAssistant\n",
    "except ImportError as e:\n",
    "    print(f\"Failed to import necessary modules: {e}\")\n",
    "    print(\"Ensure your project structure is correct, you are in the 'examples' directory,\")\n",
    "    print(\"or that 'my_local_assistant' is installed and accessible.\")\n",
    "    sys.exit(1)"
   ]
  },
  {
   "cell_type": "code",
   "execution_count": null,
   "metadata": {},
   "outputs": [],
   "source": []
  },
  {
   "cell_type": "code",
   "execution_count": null,
   "metadata": {},
   "outputs": [],
   "source": []
  },
  {
   "cell_type": "code",
   "execution_count": null,
   "metadata": {},
   "outputs": [],
   "source": []
  },
  {
   "cell_type": "code",
   "execution_count": null,
   "metadata": {},
   "outputs": [],
   "source": []
  },
  {
   "cell_type": "code",
   "execution_count": null,
   "id": "864de816",
   "metadata": {},
   "outputs": [],
   "source": []
  }
 ],
 "metadata": {
  "kernelspec": {
   "display_name": ".venv",
   "language": "python",
   "name": "python3"
  },
  "language_info": {
   "name": "python",
   "version": "3.13.3"
  }
 },
 "nbformat": 4,
 "nbformat_minor": 5
}
